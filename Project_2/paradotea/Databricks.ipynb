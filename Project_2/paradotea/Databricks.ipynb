{
 "cells": [
  {
   "cell_type": "markdown",
   "metadata": {
    "application/vnd.databricks.v1+cell": {
     "cellMetadata": {},
     "inputWidgets": {},
     "nuid": "96816ed7-b08a-4ca3-abb9-f99880c3535d",
     "showTitle": false,
     "title": ""
    },
    "jupyter": {
     "outputs_hidden": true
    }
   },
   "source": [
    "\n",
    "This notebook shows you how to create and query a table or DataFrame loaded from data stored in Azure Blob storage."
   ]
  },
  {
   "cell_type": "markdown",
   "metadata": {
    "application/vnd.databricks.v1+cell": {
     "cellMetadata": {},
     "inputWidgets": {},
     "nuid": "84d079e4-93e8-460d-9d95-54a3fa326ca1",
     "showTitle": false,
     "title": ""
    }
   },
   "source": [
    "\n",
    "### Step 1: Set the data location and type\n",
    "\n",
    "There are two ways to access Azure Blob storage: account keys and shared access signatures (SAS).\n",
    "\n",
    "To get started, we need to set the location and type of the file."
   ]
  },
  {
   "cell_type": "code",
   "execution_count": 1,
   "metadata": {
    "application/vnd.databricks.v1+cell": {
     "cellMetadata": {
      "byteLimit": 2048000,
      "rowLimit": 10000
     },
     "inputWidgets": {},
     "nuid": "c760fc54-dbf0-4715-8df6-8fdff699c029",
     "showTitle": false,
     "title": ""
    }
   },
   "outputs": [],
   "source": [
    "storage_account_name = \"cataschevasticadw\"\n",
    "storage_account_access_key = \"GWaJcOy67wGkrcgSSjMny86j5ZxVtBiXGNxU7dx+L/yMDXCl3Vk+1XKJ3vuEs+w4Edh+KWonSkdZ+ASty3bspQ==\""
   ]
  },
  {
   "cell_type": "code",
   "execution_count": 2,
   "metadata": {
    "application/vnd.databricks.v1+cell": {
     "cellMetadata": {
      "byteLimit": 2048000,
      "rowLimit": 10000
     },
     "inputWidgets": {},
     "nuid": "6482be4c-f067-47c9-b0ac-35c938b94601",
     "showTitle": false,
     "title": ""
    }
   },
   "outputs": [],
   "source": [
    "file_location = \"wasbs://cataschevasticadw@cataschevasticadw.blob.core.windows.net/FactTempSales\"\n",
    "file_type = \"csv\""
   ]
  },
  {
   "cell_type": "code",
   "execution_count": 3,
   "metadata": {
    "application/vnd.databricks.v1+cell": {
     "cellMetadata": {
      "byteLimit": 2048000,
      "rowLimit": 10000
     },
     "inputWidgets": {},
     "nuid": "8acc0dda-69e3-4817-bf5d-450562afe113",
     "showTitle": false,
     "title": ""
    }
   },
   "outputs": [
    {
     "ename": "NameError",
     "evalue": "name 'spark' is not defined",
     "output_type": "error",
     "traceback": [
      "\u001b[1;31m---------------------------------------------------------------------------\u001b[0m",
      "\u001b[1;31mNameError\u001b[0m                                 Traceback (most recent call last)",
      "Cell \u001b[1;32mIn[3], line 1\u001b[0m\n\u001b[1;32m----> 1\u001b[0m \u001b[43mspark\u001b[49m\u001b[38;5;241m.\u001b[39mconf\u001b[38;5;241m.\u001b[39mset(\n\u001b[0;32m      2\u001b[0m   \u001b[38;5;124m\"\u001b[39m\u001b[38;5;124mfs.azure.account.key.\u001b[39m\u001b[38;5;124m\"\u001b[39m\u001b[38;5;241m+\u001b[39mstorage_account_name\u001b[38;5;241m+\u001b[39m\u001b[38;5;124m\"\u001b[39m\u001b[38;5;124m.blob.core.windows.net\u001b[39m\u001b[38;5;124m\"\u001b[39m,\n\u001b[0;32m      3\u001b[0m   storage_account_access_key)\n",
      "\u001b[1;31mNameError\u001b[0m: name 'spark' is not defined"
     ]
    }
   ],
   "source": [
    "spark.conf.set(\n",
    "  \"fs.azure.account.key.\"+storage_account_name+\".blob.core.windows.net\",\n",
    "  storage_account_access_key)"
   ]
  },
  {
   "cell_type": "markdown",
   "metadata": {
    "application/vnd.databricks.v1+cell": {
     "cellMetadata": {},
     "inputWidgets": {},
     "nuid": "51114086-25f5-4c9c-8bb3-64ff28b0f0f4",
     "showTitle": false,
     "title": ""
    }
   },
   "source": [
    "\n",
    "### Step 2: Read the data\n",
    "\n",
    "Now that we have specified our file metadata, we can create a DataFrame. Notice that we use an *option* to specify that we want to infer the schema from the file. We can also explicitly set this to a particular schema if we have one already.\n",
    "\n",
    "First, let's create a DataFrame in Python."
   ]
  },
  {
   "cell_type": "code",
   "execution_count": null,
   "metadata": {
    "application/vnd.databricks.v1+cell": {
     "cellMetadata": {
      "byteLimit": 2048000,
      "rowLimit": 10000
     },
     "inputWidgets": {},
     "nuid": "f6366891-7da1-478e-8094-4291f4fca976",
     "showTitle": false,
     "title": ""
    }
   },
   "outputs": [],
   "source": [
    "df = spark.read.format(file_type) \\\n",
    "  .option(\"inferSchema\", \"true\") \\\n",
    "  .option(\"header\", \"true\") \\\n",
    "  .option(\"delimeter\", \",\") \\\n",
    "  .load(file_location)"
   ]
  },
  {
   "cell_type": "markdown",
   "metadata": {
    "application/vnd.databricks.v1+cell": {
     "cellMetadata": {},
     "inputWidgets": {},
     "nuid": "92108b48-e8f5-4d0d-9d24-3775b36ca207",
     "showTitle": false,
     "title": ""
    }
   },
   "source": [
    "\n",
    "### Step 3: Query the data\n",
    "\n",
    "Now that we have created our DataFrame, we can query it. For instance, you can identify particular columns to select and display."
   ]
  },
  {
   "cell_type": "code",
   "execution_count": null,
   "metadata": {
    "application/vnd.databricks.v1+cell": {
     "cellMetadata": {
      "byteLimit": 2048000,
      "rowLimit": 10000
     },
     "inputWidgets": {},
     "nuid": "fec0eb47-1220-48a6-81b4-adb261a7265a",
     "showTitle": false,
     "title": ""
    }
   },
   "outputs": [
    {
     "data": {
      "text/html": [
       "<style scoped>\n",
       "  .table-result-container {\n",
       "    max-height: 300px;\n",
       "    overflow: auto;\n",
       "  }\n",
       "  table, th, td {\n",
       "    border: 1px solid black;\n",
       "    border-collapse: collapse;\n",
       "  }\n",
       "  th, td {\n",
       "    padding: 5px;\n",
       "  }\n",
       "  th {\n",
       "    text-align: left;\n",
       "  }\n",
       "</style><div class='table-result-container'><table class='table-result'><thead style='background-color: white'><tr><th>OrderID</th><th>ProductID</th><th>OrderStatus</th><th>ProductKey</th><th>CustomerKey</th><th>EmployeeKey</th><th>DeliveryPartnerID</th><th>OrderDateKey</th><th>Quantity</th><th>Price</th><th>ExtendedPriceAmount</th></tr></thead><tbody><tr><td>63</td><td>SKU007</td><td>in process</td><td>7</td><td>1</td><td>3</td><td>13</td><td>20240618</td><td>100</td><td>0.75</td><td>75</td></tr><tr><td>63</td><td>SKU008</td><td>in process</td><td>8</td><td>1</td><td>3</td><td>13</td><td>20240618</td><td>300</td><td>15.0</td><td>4500</td></tr><tr><td>67</td><td>SKU001</td><td>in process</td><td>1</td><td>2</td><td>7</td><td>8</td><td>20240622</td><td>100</td><td>1.5</td><td>150</td></tr><tr><td>67</td><td>SKU015</td><td>in process</td><td>15</td><td>2</td><td>7</td><td>8</td><td>20240622</td><td>200</td><td>12.0</td><td>2400</td></tr><tr><td>65</td><td>SKU011</td><td>in process</td><td>11</td><td>4</td><td>1</td><td>15</td><td>20240620</td><td>450</td><td>2.5</td><td>1125</td></tr><tr><td>65</td><td>SKU012</td><td>in process</td><td>12</td><td>4</td><td>1</td><td>15</td><td>20240620</td><td>200</td><td>18.0</td><td>3600</td></tr><tr><td>61</td><td>SKU003</td><td>in process</td><td>3</td><td>5</td><td>11</td><td>4</td><td>20240616</td><td>150</td><td>3.0</td><td>450</td></tr><tr><td>61</td><td>SKU004</td><td>in process</td><td>4</td><td>5</td><td>11</td><td>4</td><td>20240616</td><td>100</td><td>25.0</td><td>2500</td></tr></tbody></table></div>"
      ]
     },
     "metadata": {
      "application/vnd.databricks.v1+output": {
       "addedWidgets": {},
       "aggData": [],
       "aggError": "",
       "aggOverflow": false,
       "aggSchema": [],
       "aggSeriesLimitReached": false,
       "aggType": "",
       "arguments": {},
       "columnCustomDisplayInfos": {},
       "data": [
        [
         63,
         "SKU007",
         "in process",
         7,
         1,
         3,
         13,
         20240618,
         100,
         0.75,
         75
        ],
        [
         63,
         "SKU008",
         "in process",
         8,
         1,
         3,
         13,
         20240618,
         300,
         15,
         4500
        ],
        [
         67,
         "SKU001",
         "in process",
         1,
         2,
         7,
         8,
         20240622,
         100,
         1.5,
         150
        ],
        [
         67,
         "SKU015",
         "in process",
         15,
         2,
         7,
         8,
         20240622,
         200,
         12,
         2400
        ],
        [
         65,
         "SKU011",
         "in process",
         11,
         4,
         1,
         15,
         20240620,
         450,
         2.5,
         1125
        ],
        [
         65,
         "SKU012",
         "in process",
         12,
         4,
         1,
         15,
         20240620,
         200,
         18,
         3600
        ],
        [
         61,
         "SKU003",
         "in process",
         3,
         5,
         11,
         4,
         20240616,
         150,
         3,
         450
        ],
        [
         61,
         "SKU004",
         "in process",
         4,
         5,
         11,
         4,
         20240616,
         100,
         25,
         2500
        ]
       ],
       "datasetInfos": [],
       "dbfsResultPath": null,
       "isJsonSchema": true,
       "metadata": {},
       "overflow": false,
       "plotOptions": {
        "customPlotOptions": {},
        "displayType": "table",
        "pivotAggregation": null,
        "pivotColumns": null,
        "xColumns": null,
        "yColumns": null
       },
       "removedWidgets": [],
       "schema": [
        {
         "metadata": "{}",
         "name": "OrderID",
         "type": "\"integer\""
        },
        {
         "metadata": "{}",
         "name": "ProductID",
         "type": "\"string\""
        },
        {
         "metadata": "{}",
         "name": "OrderStatus",
         "type": "\"string\""
        },
        {
         "metadata": "{}",
         "name": "ProductKey",
         "type": "\"integer\""
        },
        {
         "metadata": "{}",
         "name": "CustomerKey",
         "type": "\"integer\""
        },
        {
         "metadata": "{}",
         "name": "EmployeeKey",
         "type": "\"integer\""
        },
        {
         "metadata": "{}",
         "name": "DeliveryPartnerID",
         "type": "\"integer\""
        },
        {
         "metadata": "{}",
         "name": "OrderDateKey",
         "type": "\"integer\""
        },
        {
         "metadata": "{}",
         "name": "Quantity",
         "type": "\"integer\""
        },
        {
         "metadata": "{}",
         "name": "Price",
         "type": "\"double\""
        },
        {
         "metadata": "{}",
         "name": "ExtendedPriceAmount",
         "type": "\"integer\""
        }
       ],
       "type": "table"
      }
     },
     "output_type": "display_data"
    }
   ],
   "source": [
    "display(df)"
   ]
  },
  {
   "cell_type": "markdown",
   "metadata": {
    "application/vnd.databricks.v1+cell": {
     "cellMetadata": {},
     "inputWidgets": {},
     "nuid": "8abe7239-0632-4b90-baf0-38549b038a38",
     "showTitle": false,
     "title": ""
    }
   },
   "source": [
    "\n",
    "### Step 4: (Optional) Create a view or table\n",
    "\n",
    "If you want to query this data as a table, you can simply register it as a *view* or a table."
   ]
  },
  {
   "cell_type": "code",
   "execution_count": null,
   "metadata": {
    "application/vnd.databricks.v1+cell": {
     "cellMetadata": {},
     "inputWidgets": {},
     "nuid": "88f300bc-d77c-4cea-b950-fdebb696a3a3",
     "showTitle": false,
     "title": ""
    }
   },
   "outputs": [],
   "source": [
    "df.createOrReplaceTempView(\"YOUR_TEMP_VIEW_NAME\")"
   ]
  },
  {
   "cell_type": "markdown",
   "metadata": {
    "application/vnd.databricks.v1+cell": {
     "cellMetadata": {},
     "inputWidgets": {},
     "nuid": "8abbb176-6708-4684-86df-50e35b77d223",
     "showTitle": false,
     "title": ""
    }
   },
   "source": [
    "\n",
    "We can query this view using Spark SQL. For instance, we can perform a simple aggregation. Notice how we can use `%sql` to query the view from SQL."
   ]
  },
  {
   "cell_type": "code",
   "execution_count": null,
   "metadata": {
    "application/vnd.databricks.v1+cell": {
     "cellMetadata": {},
     "inputWidgets": {},
     "nuid": "a41b3f47-6033-4512-816a-1bff6b94fae4",
     "showTitle": false,
     "title": ""
    }
   },
   "outputs": [],
   "source": [
    "%sql\n",
    "\n",
    "SELECT EXAMPLE_GROUP, SUM(EXAMPLE_AGG) FROM YOUR_TEMP_VIEW_NAME GROUP BY EXAMPLE_GROUP"
   ]
  },
  {
   "cell_type": "markdown",
   "metadata": {
    "application/vnd.databricks.v1+cell": {
     "cellMetadata": {},
     "inputWidgets": {},
     "nuid": "be4f71a4-2c5b-4df4-8b5b-16b9c17c057a",
     "showTitle": false,
     "title": ""
    }
   },
   "source": [
    "\n",
    "Since this table is registered as a temp view, it will be available only to this notebook. If you'd like other users to be able to query this table, you can also create a table from the DataFrame."
   ]
  },
  {
   "cell_type": "code",
   "execution_count": null,
   "metadata": {
    "application/vnd.databricks.v1+cell": {
     "cellMetadata": {
      "byteLimit": 2048000,
      "rowLimit": 10000
     },
     "inputWidgets": {},
     "nuid": "db9631f6-bb4a-42ca-8a3c-0d48af932331",
     "showTitle": false,
     "title": ""
    }
   },
   "outputs": [],
   "source": [
    "df.write.format(\"parquet\").saveAsTable(\"FactTempSales\")"
   ]
  },
  {
   "cell_type": "markdown",
   "metadata": {
    "application/vnd.databricks.v1+cell": {
     "cellMetadata": {},
     "inputWidgets": {},
     "nuid": "0880bffd-4f8d-4565-8428-ace92f92a53c",
     "showTitle": false,
     "title": ""
    }
   },
   "source": [
    "\n",
    "This table will persist across cluster restarts and allow various users across different notebooks to query this data."
   ]
  },
  {
   "cell_type": "code",
   "execution_count": null,
   "metadata": {
    "application/vnd.databricks.v1+cell": {
     "cellMetadata": {
      "byteLimit": 2048000,
      "implicitDf": true,
      "rowLimit": 10000
     },
     "inputWidgets": {},
     "nuid": "b246fb1b-830f-48eb-b298-ed4aa699e9d6",
     "showTitle": false,
     "title": ""
    }
   },
   "outputs": [
    {
     "data": {
      "text/html": [
       "<style scoped>\n",
       "  .table-result-container {\n",
       "    max-height: 300px;\n",
       "    overflow: auto;\n",
       "  }\n",
       "  table, th, td {\n",
       "    border: 1px solid black;\n",
       "    border-collapse: collapse;\n",
       "  }\n",
       "  th, td {\n",
       "    padding: 5px;\n",
       "  }\n",
       "  th {\n",
       "    text-align: left;\n",
       "  }\n",
       "</style><div class='table-result-container'><table class='table-result'><thead style='background-color: white'><tr><th>OrderID</th><th>ProductID</th><th>MaterialID</th><th>ProductionStatus</th><th>ProductKey</th><th>MaterialKey</th><th>EmployeeKey</th><th>ProductionStartDateKey</th><th>ProductionEndDateKey</th><th>CostOfMaterial</th><th>AmountOfMaterialUsed</th><th>UnitsOfProduct</th><th>ExtendedCost</th><th>RowIsCurrent</th><th>MaterialKey</th><th>MaterialID</th><th>MaterialName</th><th>CostOfMaterial</th><th>SupplierID</th><th>SupplierName</th><th>RowIsCurrent</th><th>RowStartDate</th><th>RowEndDate</th><th>RowChangeReason</th><th>RowIsDeleted</th></tr></thead><tbody><tr><td>2</td><td>SKU003</td><td>3</td><td>completed</td><td>3</td><td>3</td><td>2</td><td>20230311</td><td>20230313</td><td>0.1</td><td>2.0</td><td>200</td><td>40.0</td><td>1</td><td>3</td><td>3</td><td>Clay</td><td>0.1</td><td>3</td><td>Top Steel</td><td>1</td><td>1899-12-31</td><td>9999-12-31</td><td>null</td><td>false</td></tr><tr><td>4</td><td>SKU007</td><td>3</td><td>completed</td><td>7</td><td>3</td><td>3</td><td>20230619</td><td>20230621</td><td>0.1</td><td>4.0</td><td>120</td><td>48.0</td><td>1</td><td>3</td><td>3</td><td>Clay</td><td>0.1</td><td>3</td><td>Top Steel</td><td>1</td><td>1899-12-31</td><td>9999-12-31</td><td>null</td><td>false</td></tr><tr><td>17</td><td>SKU007</td><td>3</td><td>completed</td><td>7</td><td>3</td><td>7</td><td>20230318</td><td>20230320</td><td>0.1</td><td>4.0</td><td>170</td><td>68.0</td><td>1</td><td>3</td><td>3</td><td>Clay</td><td>0.1</td><td>3</td><td>Top Steel</td><td>1</td><td>1899-12-31</td><td>9999-12-31</td><td>null</td><td>false</td></tr><tr><td>27</td><td>SKU007</td><td>3</td><td>completed</td><td>7</td><td>3</td><td>7</td><td>20230813</td><td>20230815</td><td>0.1</td><td>4.0</td><td>270</td><td>108.0</td><td>1</td><td>3</td><td>3</td><td>Clay</td><td>0.1</td><td>3</td><td>Top Steel</td><td>1</td><td>1899-12-31</td><td>9999-12-31</td><td>null</td><td>false</td></tr><tr><td>37</td><td>SKU007</td><td>3</td><td>completed</td><td>7</td><td>3</td><td>3</td><td>20231202</td><td>20231204</td><td>0.1</td><td>4.0</td><td>370</td><td>148.0</td><td>1</td><td>3</td><td>3</td><td>Clay</td><td>0.1</td><td>3</td><td>Top Steel</td><td>1</td><td>1899-12-31</td><td>9999-12-31</td><td>null</td><td>false</td></tr><tr><td>47</td><td>SKU003</td><td>3</td><td>completed</td><td>3</td><td>3</td><td>8</td><td>20230716</td><td>20230715</td><td>0.1</td><td>2.0</td><td>200</td><td>40.0</td><td>1</td><td>3</td><td>3</td><td>Clay</td><td>0.1</td><td>3</td><td>Top Steel</td><td>1</td><td>1899-12-31</td><td>9999-12-31</td><td>null</td><td>false</td></tr><tr><td>57</td><td>SKU007</td><td>3</td><td>completed</td><td>7</td><td>3</td><td>7</td><td>20230216</td><td>20230218</td><td>0.1</td><td>4.0</td><td>400</td><td>160.0</td><td>1</td><td>3</td><td>3</td><td>Clay</td><td>0.1</td><td>3</td><td>Top Steel</td><td>1</td><td>1899-12-31</td><td>9999-12-31</td><td>null</td><td>false</td></tr><tr><td>61</td><td>SKU003</td><td>3</td><td>in production</td><td>3</td><td>3</td><td>11</td><td>20240617</td><td>null</td><td>0.1</td><td>2.0</td><td>150</td><td>30.0</td><td>1</td><td>3</td><td>3</td><td>Clay</td><td>0.1</td><td>3</td><td>Top Steel</td><td>1</td><td>1899-12-31</td><td>9999-12-31</td><td>null</td><td>false</td></tr><tr><td>63</td><td>SKU007</td><td>3</td><td>in production</td><td>7</td><td>3</td><td>3</td><td>20240619</td><td>null</td><td>0.1</td><td>4.0</td><td>100</td><td>40.0</td><td>1</td><td>3</td><td>3</td><td>Clay</td><td>0.1</td><td>3</td><td>Top Steel</td><td>1</td><td>1899-12-31</td><td>9999-12-31</td><td>null</td><td>false</td></tr><tr><td>68</td><td>SKU003</td><td>3</td><td>completed</td><td>3</td><td>3</td><td>13</td><td>20240624</td><td>20240626</td><td>0.1</td><td>2.0</td><td>200</td><td>40.0</td><td>1</td><td>3</td><td>3</td><td>Clay</td><td>0.1</td><td>3</td><td>Top Steel</td><td>1</td><td>1899-12-31</td><td>9999-12-31</td><td>null</td><td>false</td></tr></tbody></table></div>"
      ]
     },
     "metadata": {
      "application/vnd.databricks.v1+output": {
       "addedWidgets": {},
       "aggData": [],
       "aggError": "",
       "aggOverflow": false,
       "aggSchema": [],
       "aggSeriesLimitReached": false,
       "aggType": "",
       "arguments": {},
       "columnCustomDisplayInfos": {},
       "data": [
        [
         2,
         "SKU003",
         3,
         "completed",
         3,
         3,
         2,
         20230311,
         20230313,
         0.1,
         2,
         200,
         40,
         1,
         3,
         3,
         "Clay",
         0.1,
         3,
         "Top Steel",
         1,
         "1899-12-31",
         "9999-12-31",
         null,
         false
        ],
        [
         4,
         "SKU007",
         3,
         "completed",
         7,
         3,
         3,
         20230619,
         20230621,
         0.1,
         4,
         120,
         48,
         1,
         3,
         3,
         "Clay",
         0.1,
         3,
         "Top Steel",
         1,
         "1899-12-31",
         "9999-12-31",
         null,
         false
        ],
        [
         17,
         "SKU007",
         3,
         "completed",
         7,
         3,
         7,
         20230318,
         20230320,
         0.1,
         4,
         170,
         68,
         1,
         3,
         3,
         "Clay",
         0.1,
         3,
         "Top Steel",
         1,
         "1899-12-31",
         "9999-12-31",
         null,
         false
        ],
        [
         27,
         "SKU007",
         3,
         "completed",
         7,
         3,
         7,
         20230813,
         20230815,
         0.1,
         4,
         270,
         108,
         1,
         3,
         3,
         "Clay",
         0.1,
         3,
         "Top Steel",
         1,
         "1899-12-31",
         "9999-12-31",
         null,
         false
        ],
        [
         37,
         "SKU007",
         3,
         "completed",
         7,
         3,
         3,
         20231202,
         20231204,
         0.1,
         4,
         370,
         148,
         1,
         3,
         3,
         "Clay",
         0.1,
         3,
         "Top Steel",
         1,
         "1899-12-31",
         "9999-12-31",
         null,
         false
        ],
        [
         47,
         "SKU003",
         3,
         "completed",
         3,
         3,
         8,
         20230716,
         20230715,
         0.1,
         2,
         200,
         40,
         1,
         3,
         3,
         "Clay",
         0.1,
         3,
         "Top Steel",
         1,
         "1899-12-31",
         "9999-12-31",
         null,
         false
        ],
        [
         57,
         "SKU007",
         3,
         "completed",
         7,
         3,
         7,
         20230216,
         20230218,
         0.1,
         4,
         400,
         160,
         1,
         3,
         3,
         "Clay",
         0.1,
         3,
         "Top Steel",
         1,
         "1899-12-31",
         "9999-12-31",
         null,
         false
        ],
        [
         61,
         "SKU003",
         3,
         "in production",
         3,
         3,
         11,
         20240617,
         null,
         0.1,
         2,
         150,
         30,
         1,
         3,
         3,
         "Clay",
         0.1,
         3,
         "Top Steel",
         1,
         "1899-12-31",
         "9999-12-31",
         null,
         false
        ],
        [
         63,
         "SKU007",
         3,
         "in production",
         7,
         3,
         3,
         20240619,
         null,
         0.1,
         4,
         100,
         40,
         1,
         3,
         3,
         "Clay",
         0.1,
         3,
         "Top Steel",
         1,
         "1899-12-31",
         "9999-12-31",
         null,
         false
        ],
        [
         68,
         "SKU003",
         3,
         "completed",
         3,
         3,
         13,
         20240624,
         20240626,
         0.1,
         2,
         200,
         40,
         1,
         3,
         3,
         "Clay",
         0.1,
         3,
         "Top Steel",
         1,
         "1899-12-31",
         "9999-12-31",
         null,
         false
        ]
       ],
       "datasetInfos": [],
       "dbfsResultPath": null,
       "isJsonSchema": true,
       "metadata": {},
       "overflow": false,
       "plotOptions": {
        "customPlotOptions": {},
        "displayType": "table",
        "pivotAggregation": null,
        "pivotColumns": null,
        "xColumns": null,
        "yColumns": null
       },
       "removedWidgets": [],
       "schema": [
        {
         "metadata": "{}",
         "name": "OrderID",
         "type": "\"integer\""
        },
        {
         "metadata": "{}",
         "name": "ProductID",
         "type": "\"string\""
        },
        {
         "metadata": "{}",
         "name": "MaterialID",
         "type": "\"integer\""
        },
        {
         "metadata": "{}",
         "name": "ProductionStatus",
         "type": "\"string\""
        },
        {
         "metadata": "{}",
         "name": "ProductKey",
         "type": "\"integer\""
        },
        {
         "metadata": "{}",
         "name": "MaterialKey",
         "type": "\"integer\""
        },
        {
         "metadata": "{}",
         "name": "EmployeeKey",
         "type": "\"integer\""
        },
        {
         "metadata": "{}",
         "name": "ProductionStartDateKey",
         "type": "\"integer\""
        },
        {
         "metadata": "{}",
         "name": "ProductionEndDateKey",
         "type": "\"integer\""
        },
        {
         "metadata": "{}",
         "name": "CostOfMaterial",
         "type": "\"double\""
        },
        {
         "metadata": "{}",
         "name": "AmountOfMaterialUsed",
         "type": "\"double\""
        },
        {
         "metadata": "{}",
         "name": "UnitsOfProduct",
         "type": "\"integer\""
        },
        {
         "metadata": "{}",
         "name": "ExtendedCost",
         "type": "\"double\""
        },
        {
         "metadata": "{}",
         "name": "RowIsCurrent",
         "type": "\"integer\""
        },
        {
         "metadata": "{}",
         "name": "MaterialKey",
         "type": "\"integer\""
        },
        {
         "metadata": "{}",
         "name": "MaterialID",
         "type": "\"integer\""
        },
        {
         "metadata": "{}",
         "name": "MaterialName",
         "type": "\"string\""
        },
        {
         "metadata": "{}",
         "name": "CostOfMaterial",
         "type": "\"double\""
        },
        {
         "metadata": "{}",
         "name": "SupplierID",
         "type": "\"integer\""
        },
        {
         "metadata": "{}",
         "name": "SupplierName",
         "type": "\"string\""
        },
        {
         "metadata": "{}",
         "name": "RowIsCurrent",
         "type": "\"integer\""
        },
        {
         "metadata": "{\"__detected_date_formats\":\"yyyy-M-d\"}",
         "name": "RowStartDate",
         "type": "\"date\""
        },
        {
         "metadata": "{\"__detected_date_formats\":\"yyyy-M-d\"}",
         "name": "RowEndDate",
         "type": "\"date\""
        },
        {
         "metadata": "{}",
         "name": "RowChangeReason",
         "type": "\"string\""
        },
        {
         "metadata": "{}",
         "name": "RowIsDeleted",
         "type": "\"boolean\""
        }
       ],
       "type": "table"
      }
     },
     "output_type": "display_data"
    }
   ],
   "source": [
    "%sql\n",
    "SELECT * FROM FactProduction\n",
    "INNER JOIN DimMaterial\n",
    "  ON DimMaterial.MaterialKey =FactProduction.MaterialKey \n",
    "WHERE DimMaterial.RowIsCurrent = 1 AND FactProduction.MaterialID=3"
   ]
  },
  {
   "cell_type": "code",
   "execution_count": null,
   "metadata": {
    "application/vnd.databricks.v1+cell": {
     "cellMetadata": {
      "byteLimit": 2048000,
      "implicitDf": true,
      "rowLimit": 10000
     },
     "inputWidgets": {},
     "nuid": "ab19aaac-8f38-463f-b793-cb5dd50f87a6",
     "showTitle": false,
     "title": ""
    }
   },
   "outputs": [
    {
     "data": {
      "text/html": [
       "<style scoped>\n",
       "  .table-result-container {\n",
       "    max-height: 300px;\n",
       "    overflow: auto;\n",
       "  }\n",
       "  table, th, td {\n",
       "    border: 1px solid black;\n",
       "    border-collapse: collapse;\n",
       "  }\n",
       "  th, td {\n",
       "    padding: 5px;\n",
       "  }\n",
       "  th {\n",
       "    text-align: left;\n",
       "  }\n",
       "</style><div class='table-result-container'><table class='table-result'><thead style='background-color: white'><tr><th>formatted_date</th></tr></thead><tbody><tr><td>1996-04-23</td></tr></tbody></table></div>"
      ]
     },
     "metadata": {
      "application/vnd.databricks.v1+output": {
       "addedWidgets": {},
       "aggData": [],
       "aggError": "",
       "aggOverflow": false,
       "aggSchema": [],
       "aggSeriesLimitReached": false,
       "aggType": "",
       "arguments": {},
       "columnCustomDisplayInfos": {},
       "data": [
        [
         "1996-04-23"
        ]
       ],
       "datasetInfos": [],
       "dbfsResultPath": null,
       "isJsonSchema": true,
       "metadata": {},
       "overflow": false,
       "plotOptions": {
        "customPlotOptions": {},
        "displayType": "table",
        "pivotAggregation": null,
        "pivotColumns": null,
        "xColumns": null,
        "yColumns": null
       },
       "removedWidgets": [],
       "schema": [
        {
         "metadata": "{}",
         "name": "formatted_date",
         "type": "\"date\""
        }
       ],
       "type": "table"
      }
     },
     "output_type": "display_data"
    }
   ],
   "source": [
    "%sql\n",
    "SELECT to_date(CAST(19960423 AS VARCHAR(8)), 'yyyyMMdd') as formatted_date"
   ]
  },
  {
   "cell_type": "code",
   "execution_count": null,
   "metadata": {
    "application/vnd.databricks.v1+cell": {
     "cellMetadata": {
      "byteLimit": 2048000,
      "implicitDf": true,
      "rowLimit": 10000
     },
     "inputWidgets": {},
     "nuid": "f505e413-2445-41c1-839a-0f7da3e52db3",
     "showTitle": false,
     "title": ""
    }
   },
   "outputs": [
    {
     "data": {
      "text/html": [
       "<style scoped>\n",
       "  .table-result-container {\n",
       "    max-height: 300px;\n",
       "    overflow: auto;\n",
       "  }\n",
       "  table, th, td {\n",
       "    border: 1px solid black;\n",
       "    border-collapse: collapse;\n",
       "  }\n",
       "  th, td {\n",
       "    padding: 5px;\n",
       "  }\n",
       "  th {\n",
       "    text-align: left;\n",
       "  }\n",
       "</style><div class='table-result-container'><table class='table-result'><thead style='background-color: white'><tr><th>ProductID</th><th>ExecutionTimeInDays</th></tr></thead><tbody><tr><td>SKU003</td><td>4.0</td></tr><tr><td>SKU014</td><td>4.5</td></tr><tr><td>SKU013</td><td>4.333333333333333</td></tr><tr><td>SKU005</td><td>4.0</td></tr><tr><td>SKU011</td><td>4.875</td></tr><tr><td>SKU007</td><td>4.2</td></tr><tr><td>SKU006</td><td>3.8333333333333335</td></tr><tr><td>SKU002</td><td>4.25</td></tr><tr><td>SKU008</td><td>4.5</td></tr><tr><td>SKU010</td><td>3.5</td></tr><tr><td>SKU009</td><td>4.0</td></tr><tr><td>SKU001</td><td>4.666666666666667</td></tr><tr><td>SKU012</td><td>4.6</td></tr><tr><td>SKU004</td><td>4.5</td></tr><tr><td>SKU015</td><td>5.0</td></tr></tbody></table></div>"
      ]
     },
     "metadata": {
      "application/vnd.databricks.v1+output": {
       "addedWidgets": {},
       "aggData": [],
       "aggError": "",
       "aggOverflow": false,
       "aggSchema": [],
       "aggSeriesLimitReached": false,
       "aggType": "",
       "arguments": {},
       "columnCustomDisplayInfos": {},
       "data": [
        [
         "SKU003",
         4
        ],
        [
         "SKU014",
         4.5
        ],
        [
         "SKU013",
         4.333333333333333
        ],
        [
         "SKU005",
         4
        ],
        [
         "SKU011",
         4.875
        ],
        [
         "SKU007",
         4.2
        ],
        [
         "SKU006",
         3.8333333333333335
        ],
        [
         "SKU002",
         4.25
        ],
        [
         "SKU008",
         4.5
        ],
        [
         "SKU010",
         3.5
        ],
        [
         "SKU009",
         4
        ],
        [
         "SKU001",
         4.666666666666667
        ],
        [
         "SKU012",
         4.6
        ],
        [
         "SKU004",
         4.5
        ],
        [
         "SKU015",
         5
        ]
       ],
       "datasetInfos": [],
       "dbfsResultPath": null,
       "isJsonSchema": true,
       "metadata": {},
       "overflow": false,
       "plotOptions": {
        "customPlotOptions": {},
        "displayType": "table",
        "pivotAggregation": null,
        "pivotColumns": null,
        "xColumns": null,
        "yColumns": null
       },
       "removedWidgets": [],
       "schema": [
        {
         "metadata": "{}",
         "name": "ProductID",
         "type": "\"string\""
        },
        {
         "metadata": "{}",
         "name": "ExecutionTimeInDays",
         "type": "\"double\""
        }
       ],
       "type": "table"
      }
     },
     "output_type": "display_data"
    }
   ],
   "source": [
    "%sql\n",
    "\n",
    "SELECT ProductID, \n",
    "  AVG(DATEDIFF(day, \n",
    "          to_date(CAST(OrderDateKey AS VARCHAR(8)), 'yyyyMMdd'), \n",
    "          to_date(CAST(ShippedDateKey AS VARCHAR(8)), 'yyyyMMdd'))) AS ExecutionTimeInDays\n",
    "FROM FactSales\n",
    "WHERE FactSales.OrderStatus='completed' OR FactSales.OrderStatus='in delivery'\n",
    "GROUP BY ProductID"
   ]
  },
  {
   "cell_type": "code",
   "execution_count": null,
   "metadata": {
    "application/vnd.databricks.v1+cell": {
     "cellMetadata": {
      "byteLimit": 2048000,
      "implicitDf": true,
      "rowLimit": 10000
     },
     "inputWidgets": {},
     "nuid": "c807442d-a29c-49ec-99af-14bb219bcd71",
     "showTitle": false,
     "title": ""
    }
   },
   "outputs": [
    {
     "data": {
      "text/html": [
       "<style scoped>\n",
       "  .table-result-container {\n",
       "    max-height: 300px;\n",
       "    overflow: auto;\n",
       "  }\n",
       "  table, th, td {\n",
       "    border: 1px solid black;\n",
       "    border-collapse: collapse;\n",
       "  }\n",
       "  th, td {\n",
       "    padding: 5px;\n",
       "  }\n",
       "  th {\n",
       "    text-align: left;\n",
       "  }\n",
       "</style><div class='table-result-container'><table class='table-result'><thead style='background-color: white'><tr><th>OrderID</th><th>ProductID</th><th>OrderStatus</th><th>ProductKey</th><th>CustomerKey</th><th>EmployeeKey</th><th>DeliveryPartnerID</th><th>OrderDateKey</th><th>ShippedDateKey</th><th>RecievedDateKey</th><th>CancellationDateKey</th><th>Quantity</th><th>Price</th><th>ExtendedPriceAmount</th><th>RowIsCurrent</th></tr></thead><tbody><tr><td>1</td><td>SKU001</td><td>completed</td><td>1</td><td>1</td><td>7</td><td>11</td><td>20230115</td><td>20230120</td><td>20230125</td><td>null</td><td>150</td><td>1.5</td><td>225.0</td><td>1</td></tr><tr><td>1</td><td>SKU002</td><td>completed</td><td>2</td><td>1</td><td>7</td><td>11</td><td>20230115</td><td>20230120</td><td>20230125</td><td>null</td><td>100</td><td>45.0</td><td>4500.0</td><td>1</td></tr><tr><td>2</td><td>SKU003</td><td>completed</td><td>3</td><td>12</td><td>2</td><td>9</td><td>20230310</td><td>20230315</td><td>20230320</td><td>null</td><td>200</td><td>3.0</td><td>600.0</td><td>1</td></tr><tr><td>2</td><td>SKU004</td><td>completed</td><td>4</td><td>12</td><td>2</td><td>9</td><td>20230310</td><td>20230315</td><td>20230320</td><td>null</td><td>75</td><td>25.0</td><td>1875.0</td><td>1</td></tr><tr><td>3</td><td>SKU005</td><td>cancelled</td><td>5</td><td>8</td><td>5</td><td>3</td><td>20230405</td><td>null</td><td>null</td><td>20230407</td><td>150</td><td>5.0</td><td>750.0</td><td>1</td></tr><tr><td>4</td><td>SKU006</td><td>completed</td><td>6</td><td>4</td><td>3</td><td>7</td><td>20230618</td><td>20230620</td><td>20230625</td><td>null</td><td>250</td><td>7.5</td><td>1875.0</td><td>1</td></tr><tr><td>4</td><td>SKU007</td><td>completed</td><td>7</td><td>4</td><td>3</td><td>7</td><td>20230618</td><td>20230620</td><td>20230625</td><td>null</td><td>120</td><td>0.75</td><td>90.0</td><td>1</td></tr><tr><td>5</td><td>SKU008</td><td>completed</td><td>8</td><td>5</td><td>5</td><td>6</td><td>20230820</td><td>20230825</td><td>20230830</td><td>null</td><td>300</td><td>15.0</td><td>4500.0</td><td>1</td></tr><tr><td>5</td><td>SKU009</td><td>completed</td><td>9</td><td>5</td><td>5</td><td>6</td><td>20230820</td><td>20230825</td><td>20230830</td><td>null</td><td>200</td><td>2.0</td><td>400.0</td><td>1</td></tr><tr><td>6</td><td>SKU010</td><td>cancelled</td><td>10</td><td>15</td><td>6</td><td>1</td><td>20231015</td><td>null</td><td>null</td><td>20231018</td><td>150</td><td>1.5</td><td>225.0</td><td>1</td></tr><tr><td>7</td><td>SKU011</td><td>completed</td><td>11</td><td>2</td><td>7</td><td>8</td><td>20231212</td><td>20231217</td><td>20231222</td><td>null</td><td>450</td><td>2.5</td><td>1125.0</td><td>1</td></tr><tr><td>7</td><td>SKU012</td><td>completed</td><td>12</td><td>2</td><td>7</td><td>8</td><td>20231212</td><td>20231217</td><td>20231222</td><td>null</td><td>200</td><td>18.0</td><td>3600.0</td><td>1</td></tr><tr><td>8</td><td>SKU013</td><td>cancelled</td><td>13</td><td>9</td><td>3</td><td>14</td><td>20240214</td><td>null</td><td>null</td><td>20240217</td><td>100</td><td>10.0</td><td>1000.0</td><td>1</td></tr><tr><td>9</td><td>SKU014</td><td>completed</td><td>14</td><td>5</td><td>13</td><td>9</td><td>20240425</td><td>20240430</td><td>20240505</td><td>null</td><td>300</td><td>50.0</td><td>15000.0</td><td>1</td></tr><tr><td>9</td><td>SKU015</td><td>completed</td><td>15</td><td>5</td><td>13</td><td>9</td><td>20240425</td><td>20240430</td><td>20240505</td><td>null</td><td>150</td><td>12.0</td><td>1800.0</td><td>1</td></tr><tr><td>10</td><td>SKU001</td><td>completed</td><td>1</td><td>4</td><td>10</td><td>15</td><td>20240601</td><td>20240605</td><td>20240610</td><td>null</td><td>200</td><td>1.5</td><td>300.0</td><td>1</td></tr><tr><td>10</td><td>SKU002</td><td>completed</td><td>2</td><td>4</td><td>10</td><td>15</td><td>20240601</td><td>20240605</td><td>20240610</td><td>null</td><td>100</td><td>45.0</td><td>4500.0</td><td>1</td></tr><tr><td>11</td><td>SKU011</td><td>completed</td><td>11</td><td>11</td><td>7</td><td>9</td><td>20230112</td><td>20230117</td><td>20230122</td><td>null</td><td>110</td><td>2.5</td><td>275.0</td><td>1</td></tr><tr><td>12</td><td>SKU012</td><td>cancelled</td><td>12</td><td>2</td><td>10</td><td>5</td><td>20230120</td><td>null</td><td>null</td><td>20230125</td><td>120</td><td>18.0</td><td>2160.0</td><td>1</td></tr><tr><td>13</td><td>SKU013</td><td>completed</td><td>13</td><td>12</td><td>13</td><td>3</td><td>20230201</td><td>20230206</td><td>20230211</td><td>null</td><td>130</td><td>10.0</td><td>1300.0</td><td>1</td></tr><tr><td>14</td><td>SKU014</td><td>completed</td><td>14</td><td>4</td><td>4</td><td>8</td><td>20230218</td><td>20230223</td><td>20230228</td><td>null</td><td>140</td><td>50.0</td><td>7000.0</td><td>1</td></tr><tr><td>15</td><td>SKU015</td><td>cancelled</td><td>15</td><td>15</td><td>7</td><td>14</td><td>20230301</td><td>null</td><td>null</td><td>20230306</td><td>150</td><td>12.0</td><td>1800.0</td><td>1</td></tr><tr><td>16</td><td>SKU006</td><td>completed</td><td>6</td><td>6</td><td>9</td><td>11</td><td>20230305</td><td>20230310</td><td>20230315</td><td>null</td><td>160</td><td>7.5</td><td>1200.0</td><td>1</td></tr><tr><td>17</td><td>SKU007</td><td>completed</td><td>7</td><td>3</td><td>7</td><td>8</td><td>20230317</td><td>20230322</td><td>20230327</td><td>null</td><td>170</td><td>0.75</td><td>127.5</td><td>1</td></tr><tr><td>18</td><td>SKU008</td><td>cancelled</td><td>8</td><td>2</td><td>5</td><td>10</td><td>20230410</td><td>null</td><td>null</td><td>20230415</td><td>180</td><td>15.0</td><td>2700.0</td><td>1</td></tr><tr><td>19</td><td>SKU009</td><td>completed</td><td>9</td><td>9</td><td>11</td><td>8</td><td>20230422</td><td>20230427</td><td>20230502</td><td>null</td><td>190</td><td>2.0</td><td>380.0</td><td>1</td></tr><tr><td>20</td><td>SKU010</td><td>cancelled</td><td>10</td><td>10</td><td>1</td><td>4</td><td>20230515</td><td>null</td><td>null</td><td>20230520</td><td>200</td><td>1.5</td><td>300.0</td><td>1</td></tr><tr><td>21</td><td>SKU011</td><td>completed</td><td>11</td><td>11</td><td>6</td><td>5</td><td>20230525</td><td>20230530</td><td>20230604</td><td>null</td><td>210</td><td>2.5</td><td>525.0</td><td>1</td></tr><tr><td>22</td><td>SKU012</td><td>completed</td><td>12</td><td>6</td><td>12</td><td>11</td><td>20230603</td><td>20230608</td><td>20230613</td><td>null</td><td>220</td><td>18.0</td><td>3960.0</td><td>1</td></tr><tr><td>23</td><td>SKU013</td><td>cancelled</td><td>13</td><td>9</td><td>13</td><td>15</td><td>20230620</td><td>null</td><td>null</td><td>20230625</td><td>230</td><td>10.0</td><td>2300.0</td><td>1</td></tr><tr><td>24</td><td>SKU014</td><td>completed</td><td>14</td><td>4</td><td>2</td><td>7</td><td>20230710</td><td>20230715</td><td>20230720</td><td>null</td><td>240</td><td>50.0</td><td>12000.0</td><td>1</td></tr><tr><td>25</td><td>SKU015</td><td>cancelled</td><td>15</td><td>2</td><td>5</td><td>11</td><td>20230725</td><td>null</td><td>null</td><td>20230730</td><td>250</td><td>12.0</td><td>3000.0</td><td>1</td></tr><tr><td>26</td><td>SKU006</td><td>completed</td><td>6</td><td>6</td><td>8</td><td>1</td><td>20230801</td><td>20230806</td><td>20230811</td><td>null</td><td>260</td><td>7.5</td><td>1950.0</td><td>1</td></tr><tr><td>27</td><td>SKU007</td><td>completed</td><td>7</td><td>15</td><td>7</td><td>2</td><td>20230812</td><td>20230817</td><td>20230822</td><td>null</td><td>270</td><td>0.75</td><td>202.5</td><td>1</td></tr><tr><td>28</td><td>SKU008</td><td>cancelled</td><td>8</td><td>8</td><td>3</td><td>4</td><td>20230820</td><td>null</td><td>null</td><td>20230825</td><td>280</td><td>15.0</td><td>4200.0</td><td>1</td></tr><tr><td>29</td><td>SKU011</td><td>completed</td><td>11</td><td>9</td><td>12</td><td>6</td><td>20230901</td><td>20230906</td><td>20230911</td><td>null</td><td>290</td><td>2.5</td><td>725.0</td><td>1</td></tr><tr><td>30</td><td>SKU010</td><td>cancelled</td><td>10</td><td>3</td><td>1</td><td>4</td><td>20230915</td><td>null</td><td>null</td><td>20230920</td><td>300</td><td>1.5</td><td>450.0</td><td>1</td></tr><tr><td>31</td><td>SKU011</td><td>completed</td><td>11</td><td>11</td><td>5</td><td>10</td><td>20230925</td><td>20230930</td><td>20231005</td><td>null</td><td>310</td><td>2.5</td><td>775.0</td><td>1</td></tr><tr><td>32</td><td>SKU012</td><td>completed</td><td>12</td><td>15</td><td>6</td><td>12</td><td>20231005</td><td>20231010</td><td>20231015</td><td>null</td><td>320</td><td>18.0</td><td>5760.0</td><td>1</td></tr><tr><td>33</td><td>SKU013</td><td>cancelled</td><td>13</td><td>3</td><td>4</td><td>13</td><td>20231020</td><td>null</td><td>null</td><td>20231025</td><td>330</td><td>10.0</td><td>3300.0</td><td>1</td></tr><tr><td>34</td><td>SKU014</td><td>completed</td><td>14</td><td>4</td><td>4</td><td>1</td><td>20231030</td><td>20231104</td><td>20231109</td><td>null</td><td>340</td><td>50.0</td><td>17000.0</td><td>1</td></tr><tr><td>35</td><td>SKU015</td><td>completed</td><td>15</td><td>2</td><td>3</td><td>5</td><td>20231105</td><td>20231110</td><td>20231115</td><td>null</td><td>350</td><td>12.0</td><td>4200.0</td><td>1</td></tr><tr><td>36</td><td>SKU008</td><td>cancelled</td><td>8</td><td>6</td><td>8</td><td>12</td><td>20231120</td><td>null</td><td>null</td><td>20231125</td><td>360</td><td>15.0</td><td>5400.0</td><td>1</td></tr><tr><td>37</td><td>SKU007</td><td>completed</td><td>7</td><td>7</td><td>3</td><td>10</td><td>20231201</td><td>20231206</td><td>20231211</td><td>null</td><td>370</td><td>0.75</td><td>277.5</td><td>1</td></tr><tr><td>38</td><td>SKU008</td><td>cancelled</td><td>8</td><td>3</td><td>8</td><td>11</td><td>20231210</td><td>null</td><td>null</td><td>20231215</td><td>380</td><td>15.0</td><td>5700.0</td><td>1</td></tr><tr><td>39</td><td>SKU009</td><td>completed</td><td>9</td><td>15</td><td>4</td><td>14</td><td>20231220</td><td>20231225</td><td>20231230</td><td>null</td><td>390</td><td>2.0</td><td>780.0</td><td>1</td></tr><tr><td>40</td><td>SKU001</td><td>completed</td><td>1</td><td>14</td><td>4</td><td>5</td><td>20231122</td><td>20231127</td><td>20231202</td><td>null</td><td>400</td><td>1.5</td><td>600.0</td><td>1</td></tr><tr><td>41</td><td>SKU011</td><td>cancelled</td><td>11</td><td>4</td><td>1</td><td>5</td><td>20230915</td><td>null</td><td>null</td><td>20230920</td><td>410</td><td>2.5</td><td>1025.0</td><td>1</td></tr><tr><td>42</td><td>SKU012</td><td>completed</td><td>12</td><td>14</td><td>11</td><td>2</td><td>20230812</td><td>20230817</td><td>20230822</td><td>null</td><td>420</td><td>18.0</td><td>7560.0</td><td>1</td></tr><tr><td>43</td><td>SKU013</td><td>completed</td><td>13</td><td>4</td><td>3</td><td>13</td><td>20230318</td><td>20230323</td><td>20230328</td><td>null</td><td>430</td><td>10.0</td><td>4300.0</td><td>1</td></tr><tr><td>44</td><td>SKU004</td><td>cancelled</td><td>4</td><td>14</td><td>6</td><td>11</td><td>20230521</td><td>null</td><td>null</td><td>20230526</td><td>440</td><td>25.0</td><td>11000.0</td><td>1</td></tr><tr><td>45</td><td>SKU005</td><td>completed</td><td>5</td><td>5</td><td>13</td><td>3</td><td>20230430</td><td>20230505</td><td>20230510</td><td>null</td><td>450</td><td>5.0</td><td>2250.0</td><td>1</td></tr><tr><td>46</td><td>SKU006</td><td>completed</td><td>6</td><td>6</td><td>7</td><td>9</td><td>20230615</td><td>20230620</td><td>20230625</td><td>null</td><td>460</td><td>7.5</td><td>3450.0</td><td>1</td></tr><tr><td>47</td><td>SKU003</td><td>cancelled</td><td>3</td><td>7</td><td>8</td><td>14</td><td>20230715</td><td>null</td><td>null</td><td>20230720</td><td>200</td><td>3.0</td><td>600.0</td><td>1</td></tr><tr><td>48</td><td>SKU002</td><td>completed</td><td>2</td><td>2</td><td>5</td><td>14</td><td>20230822</td><td>20230827</td><td>20230828</td><td>null</td><td>200</td><td>45.0</td><td>9000.0</td><td>1</td></tr><tr><td>48</td><td>SKU011</td><td>completed</td><td>11</td><td>2</td><td>5</td><td>14</td><td>20230822</td><td>20230827</td><td>20230828</td><td>null</td><td>150</td><td>2.5</td><td>375.0</td><td>1</td></tr><tr><td>49</td><td>SKU011</td><td>completed</td><td>11</td><td>14</td><td>3</td><td>15</td><td>20231011</td><td>20231016</td><td>20231022</td><td>null</td><td>30</td><td>2.5</td><td>75.0</td><td>1</td></tr><tr><td>50</td><td>SKU002</td><td>cancelled</td><td>2</td><td>8</td><td>12</td><td>10</td><td>20231111</td><td>null</td><td>null</td><td>20231113</td><td>120</td><td>45.0</td><td>5400.0</td><td>1</td></tr><tr><td>50</td><td>SKU015</td><td>cancelled</td><td>15</td><td>8</td><td>12</td><td>10</td><td>20231111</td><td>null</td><td>null</td><td>20231113</td><td>70</td><td>12.0</td><td>840.0</td><td>1</td></tr><tr><td>51</td><td>SKU006</td><td>completed</td><td>6</td><td>11</td><td>6</td><td>13</td><td>20230922</td><td>20230925</td><td>20230929</td><td>null</td><td>140</td><td>7.5</td><td>1050.0</td><td>1</td></tr><tr><td>52</td><td>SKU009</td><td>completed</td><td>9</td><td>2</td><td>12</td><td>3</td><td>20230722</td><td>20230725</td><td>20230729</td><td>null</td><td>300</td><td>2.0</td><td>600.0</td><td>1</td></tr><tr><td>52</td><td>SKU012</td><td>completed</td><td>12</td><td>2</td><td>12</td><td>3</td><td>20230722</td><td>20230725</td><td>20230729</td><td>null</td><td>200</td><td>18.0</td><td>3600.0</td><td>1</td></tr><tr><td>53</td><td>SKU001</td><td>cancelled</td><td>1</td><td>15</td><td>10</td><td>4</td><td>20230811</td><td>null</td><td>null</td><td>20230813</td><td>100</td><td>1.5</td><td>150.0</td><td>1</td></tr><tr><td>54</td><td>SKU004</td><td>completed</td><td>4</td><td>5</td><td>4</td><td>9</td><td>20230512</td><td>20230516</td><td>20230522</td><td>null</td><td>200</td><td>25.0</td><td>5000.0</td><td>1</td></tr><tr><td>54</td><td>SKU005</td><td>completed</td><td>5</td><td>5</td><td>4</td><td>9</td><td>20230512</td><td>20230516</td><td>20230522</td><td>null</td><td>50</td><td>5.0</td><td>250.0</td><td>1</td></tr><tr><td>54</td><td>SKU008</td><td>completed</td><td>8</td><td>5</td><td>4</td><td>9</td><td>20230512</td><td>20230516</td><td>20230522</td><td>null</td><td>300</td><td>15.0</td><td>4500.0</td><td>1</td></tr><tr><td>55</td><td>SKU005</td><td>completed</td><td>5</td><td>3</td><td>1</td><td>12</td><td>20230403</td><td>20230407</td><td>20230409</td><td>null</td><td>90</td><td>5.0</td><td>450.0</td><td>1</td></tr><tr><td>55</td><td>SKU014</td><td>completed</td><td>14</td><td>3</td><td>1</td><td>12</td><td>20230403</td><td>20230407</td><td>20230409</td><td>null</td><td>200</td><td>50.0</td><td>10000.0</td><td>1</td></tr><tr><td>56</td><td>SKU011</td><td>cancelled</td><td>11</td><td>15</td><td>6</td><td>1</td><td>20230314</td><td>null</td><td>null</td><td>20230317</td><td>30</td><td>2.5</td><td>75.0</td><td>1</td></tr><tr><td>57</td><td>SKU007</td><td>completed</td><td>7</td><td>2</td><td>7</td><td>11</td><td>20230215</td><td>20230219</td><td>20230223</td><td>null</td><td>400</td><td>0.75</td><td>300.0</td><td>1</td></tr><tr><td>58</td><td>SKU009</td><td>completed</td><td>9</td><td>11</td><td>5</td><td>8</td><td>20230116</td><td>20230119</td><td>20230121</td><td>null</td><td>150</td><td>2.0</td><td>300.0</td><td>1</td></tr><tr><td>59</td><td>SKU012</td><td>cancelled</td><td>12</td><td>9</td><td>7</td><td>9</td><td>20230217</td><td>null</td><td>null</td><td>20230220</td><td>100</td><td>18.0</td><td>1800.0</td><td>1</td></tr><tr><td>60</td><td>SKU010</td><td>completed</td><td>10</td><td>6</td><td>10</td><td>7</td><td>20230318</td><td>20230322</td><td>20230328</td><td>null</td><td>100</td><td>1.5</td><td>150.0</td><td>1</td></tr><tr><td>60</td><td>SKU011</td><td>completed</td><td>11</td><td>6</td><td>10</td><td>7</td><td>20230318</td><td>20230322</td><td>20230328</td><td>null</td><td>20</td><td>2.5</td><td>50.0</td><td>1</td></tr><tr><td>62</td><td>SKU005</td><td>in delivery</td><td>5</td><td>12</td><td>2</td><td>14</td><td>20240617</td><td>20240620</td><td>null</td><td>null</td><td>250</td><td>5.0</td><td>1250.0</td><td>1</td></tr><tr><td>62</td><td>SKU006</td><td>in delivery</td><td>6</td><td>12</td><td>2</td><td>14</td><td>20240617</td><td>20240620</td><td>null</td><td>null</td><td>200</td><td>7.5</td><td>1500.0</td><td>1</td></tr><tr><td>64</td><td>SKU009</td><td>in delivery</td><td>9</td><td>14</td><td>5</td><td>6</td><td>20240619</td><td>20240622</td><td>null</td><td>null</td><td>200</td><td>2.0</td><td>400.0</td><td>1</td></tr><tr><td>64</td><td>SKU010</td><td>in delivery</td><td>10</td><td>14</td><td>5</td><td>6</td><td>20240619</td><td>20240622</td><td>null</td><td>null</td><td>150</td><td>1.5</td><td>225.0</td><td>1</td></tr><tr><td>66</td><td>SKU013</td><td>in delivery</td><td>13</td><td>7</td><td>3</td><td>6</td><td>20240621</td><td>20240624</td><td>null</td><td>null</td><td>300</td><td>10.0</td><td>3000.0</td><td>1</td></tr><tr><td>66</td><td>SKU014</td><td>in delivery</td><td>14</td><td>7</td><td>3</td><td>6</td><td>20240621</td><td>20240624</td><td>null</td><td>null</td><td>150</td><td>50.0</td><td>7500.0</td><td>1</td></tr><tr><td>68</td><td>SKU002</td><td>in delivery</td><td>2</td><td>15</td><td>13</td><td>14</td><td>20240623</td><td>20240626</td><td>null</td><td>null</td><td>300</td><td>45.0</td><td>13500.0</td><td>1</td></tr><tr><td>68</td><td>SKU003</td><td>in delivery</td><td>3</td><td>15</td><td>13</td><td>14</td><td>20240623</td><td>20240626</td><td>null</td><td>null</td><td>200</td><td>3.0</td><td>600.0</td><td>1</td></tr></tbody></table></div>"
      ]
     },
     "metadata": {
      "application/vnd.databricks.v1+output": {
       "addedWidgets": {},
       "aggData": [],
       "aggError": "",
       "aggOverflow": false,
       "aggSchema": [],
       "aggSeriesLimitReached": false,
       "aggType": "",
       "arguments": {},
       "columnCustomDisplayInfos": {},
       "data": [
        [
         1,
         "SKU001",
         "completed",
         1,
         1,
         7,
         11,
         20230115,
         20230120,
         20230125,
         null,
         150,
         1.5,
         225,
         1
        ],
        [
         1,
         "SKU002",
         "completed",
         2,
         1,
         7,
         11,
         20230115,
         20230120,
         20230125,
         null,
         100,
         45,
         4500,
         1
        ],
        [
         2,
         "SKU003",
         "completed",
         3,
         12,
         2,
         9,
         20230310,
         20230315,
         20230320,
         null,
         200,
         3,
         600,
         1
        ],
        [
         2,
         "SKU004",
         "completed",
         4,
         12,
         2,
         9,
         20230310,
         20230315,
         20230320,
         null,
         75,
         25,
         1875,
         1
        ],
        [
         3,
         "SKU005",
         "cancelled",
         5,
         8,
         5,
         3,
         20230405,
         null,
         null,
         20230407,
         150,
         5,
         750,
         1
        ],
        [
         4,
         "SKU006",
         "completed",
         6,
         4,
         3,
         7,
         20230618,
         20230620,
         20230625,
         null,
         250,
         7.5,
         1875,
         1
        ],
        [
         4,
         "SKU007",
         "completed",
         7,
         4,
         3,
         7,
         20230618,
         20230620,
         20230625,
         null,
         120,
         0.75,
         90,
         1
        ],
        [
         5,
         "SKU008",
         "completed",
         8,
         5,
         5,
         6,
         20230820,
         20230825,
         20230830,
         null,
         300,
         15,
         4500,
         1
        ],
        [
         5,
         "SKU009",
         "completed",
         9,
         5,
         5,
         6,
         20230820,
         20230825,
         20230830,
         null,
         200,
         2,
         400,
         1
        ],
        [
         6,
         "SKU010",
         "cancelled",
         10,
         15,
         6,
         1,
         20231015,
         null,
         null,
         20231018,
         150,
         1.5,
         225,
         1
        ],
        [
         7,
         "SKU011",
         "completed",
         11,
         2,
         7,
         8,
         20231212,
         20231217,
         20231222,
         null,
         450,
         2.5,
         1125,
         1
        ],
        [
         7,
         "SKU012",
         "completed",
         12,
         2,
         7,
         8,
         20231212,
         20231217,
         20231222,
         null,
         200,
         18,
         3600,
         1
        ],
        [
         8,
         "SKU013",
         "cancelled",
         13,
         9,
         3,
         14,
         20240214,
         null,
         null,
         20240217,
         100,
         10,
         1000,
         1
        ],
        [
         9,
         "SKU014",
         "completed",
         14,
         5,
         13,
         9,
         20240425,
         20240430,
         20240505,
         null,
         300,
         50,
         15000,
         1
        ],
        [
         9,
         "SKU015",
         "completed",
         15,
         5,
         13,
         9,
         20240425,
         20240430,
         20240505,
         null,
         150,
         12,
         1800,
         1
        ],
        [
         10,
         "SKU001",
         "completed",
         1,
         4,
         10,
         15,
         20240601,
         20240605,
         20240610,
         null,
         200,
         1.5,
         300,
         1
        ],
        [
         10,
         "SKU002",
         "completed",
         2,
         4,
         10,
         15,
         20240601,
         20240605,
         20240610,
         null,
         100,
         45,
         4500,
         1
        ],
        [
         11,
         "SKU011",
         "completed",
         11,
         11,
         7,
         9,
         20230112,
         20230117,
         20230122,
         null,
         110,
         2.5,
         275,
         1
        ],
        [
         12,
         "SKU012",
         "cancelled",
         12,
         2,
         10,
         5,
         20230120,
         null,
         null,
         20230125,
         120,
         18,
         2160,
         1
        ],
        [
         13,
         "SKU013",
         "completed",
         13,
         12,
         13,
         3,
         20230201,
         20230206,
         20230211,
         null,
         130,
         10,
         1300,
         1
        ],
        [
         14,
         "SKU014",
         "completed",
         14,
         4,
         4,
         8,
         20230218,
         20230223,
         20230228,
         null,
         140,
         50,
         7000,
         1
        ],
        [
         15,
         "SKU015",
         "cancelled",
         15,
         15,
         7,
         14,
         20230301,
         null,
         null,
         20230306,
         150,
         12,
         1800,
         1
        ],
        [
         16,
         "SKU006",
         "completed",
         6,
         6,
         9,
         11,
         20230305,
         20230310,
         20230315,
         null,
         160,
         7.5,
         1200,
         1
        ],
        [
         17,
         "SKU007",
         "completed",
         7,
         3,
         7,
         8,
         20230317,
         20230322,
         20230327,
         null,
         170,
         0.75,
         127.5,
         1
        ],
        [
         18,
         "SKU008",
         "cancelled",
         8,
         2,
         5,
         10,
         20230410,
         null,
         null,
         20230415,
         180,
         15,
         2700,
         1
        ],
        [
         19,
         "SKU009",
         "completed",
         9,
         9,
         11,
         8,
         20230422,
         20230427,
         20230502,
         null,
         190,
         2,
         380,
         1
        ],
        [
         20,
         "SKU010",
         "cancelled",
         10,
         10,
         1,
         4,
         20230515,
         null,
         null,
         20230520,
         200,
         1.5,
         300,
         1
        ],
        [
         21,
         "SKU011",
         "completed",
         11,
         11,
         6,
         5,
         20230525,
         20230530,
         20230604,
         null,
         210,
         2.5,
         525,
         1
        ],
        [
         22,
         "SKU012",
         "completed",
         12,
         6,
         12,
         11,
         20230603,
         20230608,
         20230613,
         null,
         220,
         18,
         3960,
         1
        ],
        [
         23,
         "SKU013",
         "cancelled",
         13,
         9,
         13,
         15,
         20230620,
         null,
         null,
         20230625,
         230,
         10,
         2300,
         1
        ],
        [
         24,
         "SKU014",
         "completed",
         14,
         4,
         2,
         7,
         20230710,
         20230715,
         20230720,
         null,
         240,
         50,
         12000,
         1
        ],
        [
         25,
         "SKU015",
         "cancelled",
         15,
         2,
         5,
         11,
         20230725,
         null,
         null,
         20230730,
         250,
         12,
         3000,
         1
        ],
        [
         26,
         "SKU006",
         "completed",
         6,
         6,
         8,
         1,
         20230801,
         20230806,
         20230811,
         null,
         260,
         7.5,
         1950,
         1
        ],
        [
         27,
         "SKU007",
         "completed",
         7,
         15,
         7,
         2,
         20230812,
         20230817,
         20230822,
         null,
         270,
         0.75,
         202.5,
         1
        ],
        [
         28,
         "SKU008",
         "cancelled",
         8,
         8,
         3,
         4,
         20230820,
         null,
         null,
         20230825,
         280,
         15,
         4200,
         1
        ],
        [
         29,
         "SKU011",
         "completed",
         11,
         9,
         12,
         6,
         20230901,
         20230906,
         20230911,
         null,
         290,
         2.5,
         725,
         1
        ],
        [
         30,
         "SKU010",
         "cancelled",
         10,
         3,
         1,
         4,
         20230915,
         null,
         null,
         20230920,
         300,
         1.5,
         450,
         1
        ],
        [
         31,
         "SKU011",
         "completed",
         11,
         11,
         5,
         10,
         20230925,
         20230930,
         20231005,
         null,
         310,
         2.5,
         775,
         1
        ],
        [
         32,
         "SKU012",
         "completed",
         12,
         15,
         6,
         12,
         20231005,
         20231010,
         20231015,
         null,
         320,
         18,
         5760,
         1
        ],
        [
         33,
         "SKU013",
         "cancelled",
         13,
         3,
         4,
         13,
         20231020,
         null,
         null,
         20231025,
         330,
         10,
         3300,
         1
        ],
        [
         34,
         "SKU014",
         "completed",
         14,
         4,
         4,
         1,
         20231030,
         20231104,
         20231109,
         null,
         340,
         50,
         17000,
         1
        ],
        [
         35,
         "SKU015",
         "completed",
         15,
         2,
         3,
         5,
         20231105,
         20231110,
         20231115,
         null,
         350,
         12,
         4200,
         1
        ],
        [
         36,
         "SKU008",
         "cancelled",
         8,
         6,
         8,
         12,
         20231120,
         null,
         null,
         20231125,
         360,
         15,
         5400,
         1
        ],
        [
         37,
         "SKU007",
         "completed",
         7,
         7,
         3,
         10,
         20231201,
         20231206,
         20231211,
         null,
         370,
         0.75,
         277.5,
         1
        ],
        [
         38,
         "SKU008",
         "cancelled",
         8,
         3,
         8,
         11,
         20231210,
         null,
         null,
         20231215,
         380,
         15,
         5700,
         1
        ],
        [
         39,
         "SKU009",
         "completed",
         9,
         15,
         4,
         14,
         20231220,
         20231225,
         20231230,
         null,
         390,
         2,
         780,
         1
        ],
        [
         40,
         "SKU001",
         "completed",
         1,
         14,
         4,
         5,
         20231122,
         20231127,
         20231202,
         null,
         400,
         1.5,
         600,
         1
        ],
        [
         41,
         "SKU011",
         "cancelled",
         11,
         4,
         1,
         5,
         20230915,
         null,
         null,
         20230920,
         410,
         2.5,
         1025,
         1
        ],
        [
         42,
         "SKU012",
         "completed",
         12,
         14,
         11,
         2,
         20230812,
         20230817,
         20230822,
         null,
         420,
         18,
         7560,
         1
        ],
        [
         43,
         "SKU013",
         "completed",
         13,
         4,
         3,
         13,
         20230318,
         20230323,
         20230328,
         null,
         430,
         10,
         4300,
         1
        ],
        [
         44,
         "SKU004",
         "cancelled",
         4,
         14,
         6,
         11,
         20230521,
         null,
         null,
         20230526,
         440,
         25,
         11000,
         1
        ],
        [
         45,
         "SKU005",
         "completed",
         5,
         5,
         13,
         3,
         20230430,
         20230505,
         20230510,
         null,
         450,
         5,
         2250,
         1
        ],
        [
         46,
         "SKU006",
         "completed",
         6,
         6,
         7,
         9,
         20230615,
         20230620,
         20230625,
         null,
         460,
         7.5,
         3450,
         1
        ],
        [
         47,
         "SKU003",
         "cancelled",
         3,
         7,
         8,
         14,
         20230715,
         null,
         null,
         20230720,
         200,
         3,
         600,
         1
        ],
        [
         48,
         "SKU002",
         "completed",
         2,
         2,
         5,
         14,
         20230822,
         20230827,
         20230828,
         null,
         200,
         45,
         9000,
         1
        ],
        [
         48,
         "SKU011",
         "completed",
         11,
         2,
         5,
         14,
         20230822,
         20230827,
         20230828,
         null,
         150,
         2.5,
         375,
         1
        ],
        [
         49,
         "SKU011",
         "completed",
         11,
         14,
         3,
         15,
         20231011,
         20231016,
         20231022,
         null,
         30,
         2.5,
         75,
         1
        ],
        [
         50,
         "SKU002",
         "cancelled",
         2,
         8,
         12,
         10,
         20231111,
         null,
         null,
         20231113,
         120,
         45,
         5400,
         1
        ],
        [
         50,
         "SKU015",
         "cancelled",
         15,
         8,
         12,
         10,
         20231111,
         null,
         null,
         20231113,
         70,
         12,
         840,
         1
        ],
        [
         51,
         "SKU006",
         "completed",
         6,
         11,
         6,
         13,
         20230922,
         20230925,
         20230929,
         null,
         140,
         7.5,
         1050,
         1
        ],
        [
         52,
         "SKU009",
         "completed",
         9,
         2,
         12,
         3,
         20230722,
         20230725,
         20230729,
         null,
         300,
         2,
         600,
         1
        ],
        [
         52,
         "SKU012",
         "completed",
         12,
         2,
         12,
         3,
         20230722,
         20230725,
         20230729,
         null,
         200,
         18,
         3600,
         1
        ],
        [
         53,
         "SKU001",
         "cancelled",
         1,
         15,
         10,
         4,
         20230811,
         null,
         null,
         20230813,
         100,
         1.5,
         150,
         1
        ],
        [
         54,
         "SKU004",
         "completed",
         4,
         5,
         4,
         9,
         20230512,
         20230516,
         20230522,
         null,
         200,
         25,
         5000,
         1
        ],
        [
         54,
         "SKU005",
         "completed",
         5,
         5,
         4,
         9,
         20230512,
         20230516,
         20230522,
         null,
         50,
         5,
         250,
         1
        ],
        [
         54,
         "SKU008",
         "completed",
         8,
         5,
         4,
         9,
         20230512,
         20230516,
         20230522,
         null,
         300,
         15,
         4500,
         1
        ],
        [
         55,
         "SKU005",
         "completed",
         5,
         3,
         1,
         12,
         20230403,
         20230407,
         20230409,
         null,
         90,
         5,
         450,
         1
        ],
        [
         55,
         "SKU014",
         "completed",
         14,
         3,
         1,
         12,
         20230403,
         20230407,
         20230409,
         null,
         200,
         50,
         10000,
         1
        ],
        [
         56,
         "SKU011",
         "cancelled",
         11,
         15,
         6,
         1,
         20230314,
         null,
         null,
         20230317,
         30,
         2.5,
         75,
         1
        ],
        [
         57,
         "SKU007",
         "completed",
         7,
         2,
         7,
         11,
         20230215,
         20230219,
         20230223,
         null,
         400,
         0.75,
         300,
         1
        ],
        [
         58,
         "SKU009",
         "completed",
         9,
         11,
         5,
         8,
         20230116,
         20230119,
         20230121,
         null,
         150,
         2,
         300,
         1
        ],
        [
         59,
         "SKU012",
         "cancelled",
         12,
         9,
         7,
         9,
         20230217,
         null,
         null,
         20230220,
         100,
         18,
         1800,
         1
        ],
        [
         60,
         "SKU010",
         "completed",
         10,
         6,
         10,
         7,
         20230318,
         20230322,
         20230328,
         null,
         100,
         1.5,
         150,
         1
        ],
        [
         60,
         "SKU011",
         "completed",
         11,
         6,
         10,
         7,
         20230318,
         20230322,
         20230328,
         null,
         20,
         2.5,
         50,
         1
        ],
        [
         62,
         "SKU005",
         "in delivery",
         5,
         12,
         2,
         14,
         20240617,
         20240620,
         null,
         null,
         250,
         5,
         1250,
         1
        ],
        [
         62,
         "SKU006",
         "in delivery",
         6,
         12,
         2,
         14,
         20240617,
         20240620,
         null,
         null,
         200,
         7.5,
         1500,
         1
        ],
        [
         64,
         "SKU009",
         "in delivery",
         9,
         14,
         5,
         6,
         20240619,
         20240622,
         null,
         null,
         200,
         2,
         400,
         1
        ],
        [
         64,
         "SKU010",
         "in delivery",
         10,
         14,
         5,
         6,
         20240619,
         20240622,
         null,
         null,
         150,
         1.5,
         225,
         1
        ],
        [
         66,
         "SKU013",
         "in delivery",
         13,
         7,
         3,
         6,
         20240621,
         20240624,
         null,
         null,
         300,
         10,
         3000,
         1
        ],
        [
         66,
         "SKU014",
         "in delivery",
         14,
         7,
         3,
         6,
         20240621,
         20240624,
         null,
         null,
         150,
         50,
         7500,
         1
        ],
        [
         68,
         "SKU002",
         "in delivery",
         2,
         15,
         13,
         14,
         20240623,
         20240626,
         null,
         null,
         300,
         45,
         13500,
         1
        ],
        [
         68,
         "SKU003",
         "in delivery",
         3,
         15,
         13,
         14,
         20240623,
         20240626,
         null,
         null,
         200,
         3,
         600,
         1
        ]
       ],
       "datasetInfos": [],
       "dbfsResultPath": null,
       "isJsonSchema": true,
       "metadata": {},
       "overflow": false,
       "plotOptions": {
        "customPlotOptions": {},
        "displayType": "table",
        "pivotAggregation": null,
        "pivotColumns": null,
        "xColumns": null,
        "yColumns": null
       },
       "removedWidgets": [],
       "schema": [
        {
         "metadata": "{}",
         "name": "OrderID",
         "type": "\"integer\""
        },
        {
         "metadata": "{}",
         "name": "ProductID",
         "type": "\"string\""
        },
        {
         "metadata": "{}",
         "name": "OrderStatus",
         "type": "\"string\""
        },
        {
         "metadata": "{}",
         "name": "ProductKey",
         "type": "\"integer\""
        },
        {
         "metadata": "{}",
         "name": "CustomerKey",
         "type": "\"integer\""
        },
        {
         "metadata": "{}",
         "name": "EmployeeKey",
         "type": "\"integer\""
        },
        {
         "metadata": "{}",
         "name": "DeliveryPartnerID",
         "type": "\"integer\""
        },
        {
         "metadata": "{}",
         "name": "OrderDateKey",
         "type": "\"integer\""
        },
        {
         "metadata": "{}",
         "name": "ShippedDateKey",
         "type": "\"integer\""
        },
        {
         "metadata": "{}",
         "name": "RecievedDateKey",
         "type": "\"integer\""
        },
        {
         "metadata": "{}",
         "name": "CancellationDateKey",
         "type": "\"integer\""
        },
        {
         "metadata": "{}",
         "name": "Quantity",
         "type": "\"integer\""
        },
        {
         "metadata": "{}",
         "name": "Price",
         "type": "\"double\""
        },
        {
         "metadata": "{}",
         "name": "ExtendedPriceAmount",
         "type": "\"double\""
        },
        {
         "metadata": "{}",
         "name": "RowIsCurrent",
         "type": "\"integer\""
        }
       ],
       "type": "table"
      }
     },
     "output_type": "display_data"
    }
   ],
   "source": [
    "%sql\n",
    "SELECT * FROM factsales"
   ]
  }
 ],
 "metadata": {
  "application/vnd.databricks.v1+notebook": {
   "dashboards": [],
   "environmentMetadata": null,
   "language": "python",
   "notebookMetadata": {
    "mostRecentlyExecutedCommandWithImplicitDF": {
     "commandId": 1491046226158966,
     "dataframes": [
      "_sqldf"
     ]
    },
    "pythonIndentUnit": 2
   },
   "notebookName": "Import from Azure Blob Storage - 2024-06-16 (1)",
   "widgets": {}
  },
  "kernelspec": {
   "display_name": "Python 3",
   "language": "python",
   "name": "python3"
  },
  "language_info": {
   "codemirror_mode": {
    "name": "ipython",
    "version": 3
   },
   "file_extension": ".py",
   "mimetype": "text/x-python",
   "name": "python",
   "nbconvert_exporter": "python",
   "pygments_lexer": "ipython3",
   "version": "3.12.3"
  }
 },
 "nbformat": 4,
 "nbformat_minor": 0
}
